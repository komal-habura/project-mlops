{
 "cells": [
  {
   "cell_type": "code",
   "execution_count": 162,
   "metadata": {},
   "outputs": [],
   "source": [
    "def model(m):\n",
    "    i=0\n",
    "    from keras.applications.vgg16 import  VGG16\n",
    "    from glob import glob\n",
    "    from keras.layers  import Dense, Flatten,Lambda\n",
    "    from keras.applications.vgg16 import preprocess_input\n",
    "    from keras.preprocessing import image\n",
    "    model=VGG16(weights='imagenet',include_top=False,input_shape=(224,224,3))\n",
    "    train_path='face_detection/traindata/'\n",
    "    test_path='face_detection/test/'\n",
    "    len(test_path)\n",
    "    len(train_path)\n",
    "    for layer in model.layers:\n",
    "        layer.trainable=False\n",
    "    folders=glob('../face_detection/traindata/*')\n",
    "    len(folders)\n",
    "    top_model=Flatten()(model.output)\n",
    "    for i in range (i,m) :\n",
    "        top_model=Dense(512,activation='relu')(top_model)\n",
    "    top_model=Dense(len(folders),activation='softmax')(top_model)\n",
    "    from keras.models import Model\n",
    "    newmodel=Model(input=model.input,output=top_model)\n",
    "    newmodel.summary()\n",
    "    newmodel.compile(\n",
    "        optimizer='adam',\n",
    "        loss='categorical_crossentropy',\n",
    "        metrics=['accuracy'],\n",
    "    \n",
    "    )\n",
    "    from keras.preprocessing.image import ImageDataGenerator\n",
    "    train_datagen=ImageDataGenerator(\n",
    "        rescale=1./255,\n",
    "        shear_range=0.2,\n",
    "        zoom_range=0.2,\n",
    "        horizontal_flip=True,\n",
    "\n",
    "    )\n",
    "    test_datagen=ImageDataGenerator(rescale=1./255)\n",
    "\n",
    "    train_dataset=train_datagen.flow_from_directory(\n",
    "                    '../face_detection/traindata',\n",
    "                    target_size=(224, 224),\n",
    "                    batch_size=32,\n",
    "                    class_mode='categorical')\n",
    "\n",
    "\n",
    "\n",
    "    test_dataset=test_datagen.flow_from_directory(\n",
    "                     '../face_detection/test/',\n",
    "                     target_size=(224, 224),\n",
    "                     batch_size=32,\n",
    "                     class_mode='categorical')\n",
    "    n=5\n",
    "    r=newmodel.fit_generator(\n",
    "        train_dataset,\n",
    "        steps_per_epoch=len(train_dataset),\n",
    "        epochs=n,\n",
    "        validation_data=test_dataset,\n",
    "        validation_steps=len(test_dataset)\n",
    "    \n",
    "    )\n",
    "    import pandas as pd\n",
    "    accu=pd.DataFrame(newmodel.history.history)\n",
    "    accuracy =accu['accuracy']\n",
    "    accuracy\n",
    "\n",
    "    import numpy as np\n",
    "    acuu=accuracy[n-1]\n",
    "    accu=np.array(acuu)\n",
    "    accuracy=accu*100\n",
    "    \n",
    "    return accuracy \n",
    "    "
   ]
  },
  {
   "cell_type": "code",
   "execution_count": 163,
   "metadata": {},
   "outputs": [],
   "source": [
    "m=0\n",
    "accu=0"
   ]
  },
  {
   "cell_type": "code",
   "execution_count": null,
   "metadata": {},
   "outputs": [],
   "source": []
  },
  {
   "cell_type": "code",
   "execution_count": 164,
   "metadata": {},
   "outputs": [
    {
     "name": "stderr",
     "output_type": "stream",
     "text": [
      "C:\\Users\\user\\anaconda3\\lib\\site-packages\\ipykernel_launcher.py:22: UserWarning: Update your `Model` call to the Keras 2 API: `Model(inputs=Tensor(\"in..., outputs=Tensor(\"de...)`\n"
     ]
    },
    {
     "name": "stdout",
     "output_type": "stream",
     "text": [
      "Model: \"model_35\"\n",
      "_________________________________________________________________\n",
      "Layer (type)                 Output Shape              Param #   \n",
      "=================================================================\n",
      "input_50 (InputLayer)        (None, 224, 224, 3)       0         \n",
      "_________________________________________________________________\n",
      "block1_conv1 (Conv2D)        (None, 224, 224, 64)      1792      \n",
      "_________________________________________________________________\n",
      "block1_conv2 (Conv2D)        (None, 224, 224, 64)      36928     \n",
      "_________________________________________________________________\n",
      "block1_pool (MaxPooling2D)   (None, 112, 112, 64)      0         \n",
      "_________________________________________________________________\n",
      "block2_conv1 (Conv2D)        (None, 112, 112, 128)     73856     \n",
      "_________________________________________________________________\n",
      "block2_conv2 (Conv2D)        (None, 112, 112, 128)     147584    \n",
      "_________________________________________________________________\n",
      "block2_pool (MaxPooling2D)   (None, 56, 56, 128)       0         \n",
      "_________________________________________________________________\n",
      "block3_conv1 (Conv2D)        (None, 56, 56, 256)       295168    \n",
      "_________________________________________________________________\n",
      "block3_conv2 (Conv2D)        (None, 56, 56, 256)       590080    \n",
      "_________________________________________________________________\n",
      "block3_conv3 (Conv2D)        (None, 56, 56, 256)       590080    \n",
      "_________________________________________________________________\n",
      "block3_pool (MaxPooling2D)   (None, 28, 28, 256)       0         \n",
      "_________________________________________________________________\n",
      "block4_conv1 (Conv2D)        (None, 28, 28, 512)       1180160   \n",
      "_________________________________________________________________\n",
      "block4_conv2 (Conv2D)        (None, 28, 28, 512)       2359808   \n",
      "_________________________________________________________________\n",
      "block4_conv3 (Conv2D)        (None, 28, 28, 512)       2359808   \n",
      "_________________________________________________________________\n",
      "block4_pool (MaxPooling2D)   (None, 14, 14, 512)       0         \n",
      "_________________________________________________________________\n",
      "block5_conv1 (Conv2D)        (None, 14, 14, 512)       2359808   \n",
      "_________________________________________________________________\n",
      "block5_conv2 (Conv2D)        (None, 14, 14, 512)       2359808   \n",
      "_________________________________________________________________\n",
      "block5_conv3 (Conv2D)        (None, 14, 14, 512)       2359808   \n",
      "_________________________________________________________________\n",
      "block5_pool (MaxPooling2D)   (None, 7, 7, 512)         0         \n",
      "_________________________________________________________________\n",
      "flatten_50 (Flatten)         (None, 25088)             0         \n",
      "_________________________________________________________________\n",
      "dense_69 (Dense)             (None, 512)               12845568  \n",
      "_________________________________________________________________\n",
      "dense_70 (Dense)             (None, 3)                 1539      \n",
      "=================================================================\n",
      "Total params: 27,561,795\n",
      "Trainable params: 12,847,107\n",
      "Non-trainable params: 14,714,688\n",
      "_________________________________________________________________\n",
      "Found 10 images belonging to 3 classes.\n",
      "Found 3 images belonging to 3 classes.\n",
      "Epoch 1/5\n",
      "1/1 [==============================] - 6s 6s/step - loss: 1.3705 - accuracy: 0.3000 - val_loss: 25.4609 - val_accuracy: 0.3333\n",
      "Epoch 2/5\n",
      "1/1 [==============================] - 4s 4s/step - loss: 11.7995 - accuracy: 0.6000 - val_loss: 18.0613 - val_accuracy: 0.3333\n",
      "Epoch 3/5\n",
      "1/1 [==============================] - 4s 4s/step - loss: 1.7770 - accuracy: 0.7000 - val_loss: 18.6366 - val_accuracy: 0.0000e+00\n",
      "Epoch 4/5\n",
      "1/1 [==============================] - 4s 4s/step - loss: 0.6232 - accuracy: 0.8000 - val_loss: 21.3962 - val_accuracy: 0.0000e+00\n",
      "Epoch 5/5\n",
      "1/1 [==============================] - 4s 4s/step - loss: 3.2288 - accuracy: 0.5000 - val_loss: 21.3090 - val_accuracy: 0.0000e+00\n"
     ]
    },
    {
     "name": "stderr",
     "output_type": "stream",
     "text": [
      "C:\\Users\\user\\anaconda3\\lib\\site-packages\\ipykernel_launcher.py:22: UserWarning: Update your `Model` call to the Keras 2 API: `Model(inputs=Tensor(\"in..., outputs=Tensor(\"de...)`\n"
     ]
    },
    {
     "name": "stdout",
     "output_type": "stream",
     "text": [
      "Model: \"model_36\"\n",
      "_________________________________________________________________\n",
      "Layer (type)                 Output Shape              Param #   \n",
      "=================================================================\n",
      "input_51 (InputLayer)        (None, 224, 224, 3)       0         \n",
      "_________________________________________________________________\n",
      "block1_conv1 (Conv2D)        (None, 224, 224, 64)      1792      \n",
      "_________________________________________________________________\n",
      "block1_conv2 (Conv2D)        (None, 224, 224, 64)      36928     \n",
      "_________________________________________________________________\n",
      "block1_pool (MaxPooling2D)   (None, 112, 112, 64)      0         \n",
      "_________________________________________________________________\n",
      "block2_conv1 (Conv2D)        (None, 112, 112, 128)     73856     \n",
      "_________________________________________________________________\n",
      "block2_conv2 (Conv2D)        (None, 112, 112, 128)     147584    \n",
      "_________________________________________________________________\n",
      "block2_pool (MaxPooling2D)   (None, 56, 56, 128)       0         \n",
      "_________________________________________________________________\n",
      "block3_conv1 (Conv2D)        (None, 56, 56, 256)       295168    \n",
      "_________________________________________________________________\n",
      "block3_conv2 (Conv2D)        (None, 56, 56, 256)       590080    \n",
      "_________________________________________________________________\n",
      "block3_conv3 (Conv2D)        (None, 56, 56, 256)       590080    \n",
      "_________________________________________________________________\n",
      "block3_pool (MaxPooling2D)   (None, 28, 28, 256)       0         \n",
      "_________________________________________________________________\n",
      "block4_conv1 (Conv2D)        (None, 28, 28, 512)       1180160   \n",
      "_________________________________________________________________\n",
      "block4_conv2 (Conv2D)        (None, 28, 28, 512)       2359808   \n",
      "_________________________________________________________________\n",
      "block4_conv3 (Conv2D)        (None, 28, 28, 512)       2359808   \n",
      "_________________________________________________________________\n",
      "block4_pool (MaxPooling2D)   (None, 14, 14, 512)       0         \n",
      "_________________________________________________________________\n",
      "block5_conv1 (Conv2D)        (None, 14, 14, 512)       2359808   \n",
      "_________________________________________________________________\n",
      "block5_conv2 (Conv2D)        (None, 14, 14, 512)       2359808   \n",
      "_________________________________________________________________\n",
      "block5_conv3 (Conv2D)        (None, 14, 14, 512)       2359808   \n",
      "_________________________________________________________________\n",
      "block5_pool (MaxPooling2D)   (None, 7, 7, 512)         0         \n",
      "_________________________________________________________________\n",
      "flatten_51 (Flatten)         (None, 25088)             0         \n",
      "_________________________________________________________________\n",
      "dense_71 (Dense)             (None, 512)               12845568  \n",
      "_________________________________________________________________\n",
      "dense_72 (Dense)             (None, 512)               262656    \n",
      "_________________________________________________________________\n",
      "dense_73 (Dense)             (None, 3)                 1539      \n",
      "=================================================================\n",
      "Total params: 27,824,451\n",
      "Trainable params: 13,109,763\n",
      "Non-trainable params: 14,714,688\n",
      "_________________________________________________________________\n",
      "Found 10 images belonging to 3 classes.\n",
      "Found 3 images belonging to 3 classes.\n",
      "Epoch 1/5\n",
      "1/1 [==============================] - 5s 5s/step - loss: 1.0836 - accuracy: 0.6000 - val_loss: 7.4583 - val_accuracy: 0.3333\n",
      "Epoch 2/5\n",
      "1/1 [==============================] - 4s 4s/step - loss: 1.4672 - accuracy: 0.8000 - val_loss: 11.7831 - val_accuracy: 0.3333\n",
      "Epoch 3/5\n",
      "1/1 [==============================] - 4s 4s/step - loss: 6.5266 - accuracy: 0.3000 - val_loss: 7.7372 - val_accuracy: 0.0000e+00\n",
      "Epoch 4/5\n",
      "1/1 [==============================] - 4s 4s/step - loss: 0.1030 - accuracy: 1.0000 - val_loss: 10.0184 - val_accuracy: 0.3333\n",
      "Epoch 5/5\n",
      "1/1 [==============================] - 4s 4s/step - loss: 0.9158 - accuracy: 0.8000 - val_loss: 10.4331 - val_accuracy: 0.0000e+00\n"
     ]
    },
    {
     "name": "stderr",
     "output_type": "stream",
     "text": [
      "C:\\Users\\user\\anaconda3\\lib\\site-packages\\ipykernel_launcher.py:22: UserWarning: Update your `Model` call to the Keras 2 API: `Model(inputs=Tensor(\"in..., outputs=Tensor(\"de...)`\n"
     ]
    },
    {
     "name": "stdout",
     "output_type": "stream",
     "text": [
      "Model: \"model_37\"\n",
      "_________________________________________________________________\n",
      "Layer (type)                 Output Shape              Param #   \n",
      "=================================================================\n",
      "input_52 (InputLayer)        (None, 224, 224, 3)       0         \n",
      "_________________________________________________________________\n",
      "block1_conv1 (Conv2D)        (None, 224, 224, 64)      1792      \n",
      "_________________________________________________________________\n",
      "block1_conv2 (Conv2D)        (None, 224, 224, 64)      36928     \n",
      "_________________________________________________________________\n",
      "block1_pool (MaxPooling2D)   (None, 112, 112, 64)      0         \n",
      "_________________________________________________________________\n",
      "block2_conv1 (Conv2D)        (None, 112, 112, 128)     73856     \n",
      "_________________________________________________________________\n",
      "block2_conv2 (Conv2D)        (None, 112, 112, 128)     147584    \n",
      "_________________________________________________________________\n",
      "block2_pool (MaxPooling2D)   (None, 56, 56, 128)       0         \n",
      "_________________________________________________________________\n",
      "block3_conv1 (Conv2D)        (None, 56, 56, 256)       295168    \n",
      "_________________________________________________________________\n",
      "block3_conv2 (Conv2D)        (None, 56, 56, 256)       590080    \n",
      "_________________________________________________________________\n",
      "block3_conv3 (Conv2D)        (None, 56, 56, 256)       590080    \n",
      "_________________________________________________________________\n",
      "block3_pool (MaxPooling2D)   (None, 28, 28, 256)       0         \n",
      "_________________________________________________________________\n",
      "block4_conv1 (Conv2D)        (None, 28, 28, 512)       1180160   \n",
      "_________________________________________________________________\n",
      "block4_conv2 (Conv2D)        (None, 28, 28, 512)       2359808   \n",
      "_________________________________________________________________\n",
      "block4_conv3 (Conv2D)        (None, 28, 28, 512)       2359808   \n",
      "_________________________________________________________________\n",
      "block4_pool (MaxPooling2D)   (None, 14, 14, 512)       0         \n",
      "_________________________________________________________________\n",
      "block5_conv1 (Conv2D)        (None, 14, 14, 512)       2359808   \n",
      "_________________________________________________________________\n",
      "block5_conv2 (Conv2D)        (None, 14, 14, 512)       2359808   \n",
      "_________________________________________________________________\n",
      "block5_conv3 (Conv2D)        (None, 14, 14, 512)       2359808   \n",
      "_________________________________________________________________\n",
      "block5_pool (MaxPooling2D)   (None, 7, 7, 512)         0         \n",
      "_________________________________________________________________\n",
      "flatten_52 (Flatten)         (None, 25088)             0         \n",
      "_________________________________________________________________\n",
      "dense_74 (Dense)             (None, 512)               12845568  \n",
      "_________________________________________________________________\n",
      "dense_75 (Dense)             (None, 512)               262656    \n",
      "_________________________________________________________________\n",
      "dense_76 (Dense)             (None, 512)               262656    \n",
      "_________________________________________________________________\n",
      "dense_77 (Dense)             (None, 3)                 1539      \n",
      "=================================================================\n",
      "Total params: 28,087,107\n",
      "Trainable params: 13,372,419\n",
      "Non-trainable params: 14,714,688\n",
      "_________________________________________________________________\n",
      "Found 10 images belonging to 3 classes.\n",
      "Found 3 images belonging to 3 classes.\n",
      "Epoch 1/5\n",
      "1/1 [==============================] - 5s 5s/step - loss: 1.1521 - accuracy: 0.3000 - val_loss: 8.6900 - val_accuracy: 0.3333\n",
      "Epoch 2/5\n",
      "1/1 [==============================] - 4s 4s/step - loss: 4.0929 - accuracy: 0.6000 - val_loss: 6.2406 - val_accuracy: 0.3333\n",
      "Epoch 3/5\n",
      "1/1 [==============================] - 5s 5s/step - loss: 3.5896 - accuracy: 0.3000 - val_loss: 3.6686 - val_accuracy: 0.3333\n",
      "Epoch 4/5\n",
      "1/1 [==============================] - 5s 5s/step - loss: 0.6395 - accuracy: 0.6000 - val_loss: 4.2879 - val_accuracy: 0.0000e+00\n",
      "Epoch 5/5\n",
      "1/1 [==============================] - 4s 4s/step - loss: 0.3047 - accuracy: 0.9000 - val_loss: 5.5743 - val_accuracy: 0.0000e+00\n"
     ]
    }
   ],
   "source": [
    "while accu < 87 :\n",
    "    m=m+1\n",
    "    accu=model(m)"
   ]
  },
  {
   "cell_type": "code",
   "execution_count": 165,
   "metadata": {},
   "outputs": [
    {
     "data": {
      "text/plain": [
       "89.99999761581421"
      ]
     },
     "execution_count": 165,
     "metadata": {},
     "output_type": "execute_result"
    }
   ],
   "source": [
    "accu"
   ]
  },
  {
   "cell_type": "code",
   "execution_count": 166,
   "metadata": {},
   "outputs": [],
   "source": [
    "import os"
   ]
  },
  {
   "cell_type": "code",
   "execution_count": 169,
   "metadata": {},
   "outputs": [
    {
     "data": {
      "text/plain": [
       "1"
      ]
     },
     "execution_count": 169,
     "metadata": {},
     "output_type": "execute_result"
    }
   ],
   "source": [
    "os.system(\"curl --user \"admin:jenkins\" http://192.168.43.203/job/mail/build?token=redhat\" )"
   ]
  },
  {
   "cell_type": "code",
   "execution_count": null,
   "metadata": {},
   "outputs": [],
   "source": []
  },
  {
   "cell_type": "code",
   "execution_count": null,
   "metadata": {},
   "outputs": [],
   "source": [
    "\n"
   ]
  },
  {
   "cell_type": "code",
   "execution_count": null,
   "metadata": {},
   "outputs": [],
   "source": []
  },
  {
   "cell_type": "code",
   "execution_count": null,
   "metadata": {},
   "outputs": [],
   "source": []
  },
  {
   "cell_type": "code",
   "execution_count": null,
   "metadata": {},
   "outputs": [],
   "source": []
  },
  {
   "cell_type": "code",
   "execution_count": null,
   "metadata": {},
   "outputs": [],
   "source": []
  },
  {
   "cell_type": "code",
   "execution_count": null,
   "metadata": {},
   "outputs": [],
   "source": []
  },
  {
   "cell_type": "code",
   "execution_count": null,
   "metadata": {},
   "outputs": [],
   "source": []
  },
  {
   "cell_type": "code",
   "execution_count": null,
   "metadata": {},
   "outputs": [],
   "source": []
  },
  {
   "cell_type": "code",
   "execution_count": null,
   "metadata": {},
   "outputs": [],
   "source": []
  },
  {
   "cell_type": "code",
   "execution_count": null,
   "metadata": {},
   "outputs": [],
   "source": []
  },
  {
   "cell_type": "code",
   "execution_count": null,
   "metadata": {},
   "outputs": [],
   "source": []
  },
  {
   "cell_type": "code",
   "execution_count": null,
   "metadata": {},
   "outputs": [],
   "source": []
  },
  {
   "cell_type": "code",
   "execution_count": 7,
   "metadata": {},
   "outputs": [],
   "source": []
  },
  {
   "cell_type": "code",
   "execution_count": null,
   "metadata": {},
   "outputs": [],
   "source": []
  },
  {
   "cell_type": "raw",
   "metadata": {},
   "source": []
  },
  {
   "cell_type": "code",
   "execution_count": null,
   "metadata": {},
   "outputs": [],
   "source": []
  },
  {
   "cell_type": "code",
   "execution_count": null,
   "metadata": {},
   "outputs": [],
   "source": []
  },
  {
   "cell_type": "code",
   "execution_count": null,
   "metadata": {},
   "outputs": [],
   "source": []
  },
  {
   "cell_type": "code",
   "execution_count": null,
   "metadata": {},
   "outputs": [],
   "source": []
  },
  {
   "cell_type": "code",
   "execution_count": null,
   "metadata": {},
   "outputs": [],
   "source": []
  },
  {
   "cell_type": "code",
   "execution_count": 133,
   "metadata": {},
   "outputs": [
    {
     "data": {
      "text/plain": [
       "89.99999761581421"
      ]
     },
     "execution_count": 133,
     "metadata": {},
     "output_type": "execute_result"
    }
   ],
   "source": [
    "accu"
   ]
  },
  {
   "cell_type": "code",
   "execution_count": null,
   "metadata": {},
   "outputs": [],
   "source": []
  }
 ],
 "metadata": {
  "kernelspec": {
   "display_name": "Python 3",
   "language": "python",
   "name": "python3"
  },
  "language_info": {
   "codemirror_mode": {
    "name": "ipython",
    "version": 3
   },
   "file_extension": ".py",
   "mimetype": "text/x-python",
   "name": "python",
   "nbconvert_exporter": "python",
   "pygments_lexer": "ipython3",
   "version": "3.7.6"
  }
 },
 "nbformat": 4,
 "nbformat_minor": 4
}
